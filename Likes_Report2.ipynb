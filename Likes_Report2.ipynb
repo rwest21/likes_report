{
 "cells": [
  {
   "cell_type": "markdown",
   "id": "745fa47f",
   "metadata": {},
   "source": [
    "Ryan West\n",
    "\n",
    "Likes Report Assignment"
   ]
  },
  {
   "cell_type": "code",
   "execution_count": 1,
   "id": "6969f161",
   "metadata": {},
   "outputs": [],
   "source": [
    "import pandas as pd\n",
    "import json\n",
    "import matplotlib as plt"
   ]
  },
  {
   "cell_type": "code",
   "execution_count": 2,
   "id": "5a04e370",
   "metadata": {},
   "outputs": [],
   "source": [
    "with open(r\"C:\\Users\\ryno2\\DATAINEMERGINGMEDIA\\post_ryno_20210907\\likes\\liked_posts.json\") as p:\n",
    "    dat = json.load(p)"
   ]
  },
  {
   "cell_type": "code",
   "execution_count": null,
   "id": "fbd9bccf",
   "metadata": {},
   "outputs": [],
   "source": [
    "dat"
   ]
  },
  {
   "cell_type": "code",
   "execution_count": 4,
   "id": "02114e9b",
   "metadata": {},
   "outputs": [
    {
     "data": {
      "text/plain": [
       "dict_keys(['likes_media_likes'])"
      ]
     },
     "execution_count": 4,
     "metadata": {},
     "output_type": "execute_result"
    }
   ],
   "source": [
    "dat.keys()"
   ]
  },
  {
   "cell_type": "markdown",
   "id": "ac0228c1",
   "metadata": {},
   "source": [
    "a) This data was collected by Instagram.\n",
    "\n",
    "b) This data was collected to get information on what kinds of accounts I have liked posts from. This can be used for a number of things including getting an idea of what types of accounts I am more likely to like as opposed to others.\n",
    "\n",
    "c) This data is reliable because it accurately keeps track of what account you have liked and at what time the like happened.\n",
    "\n",
    "d) A way the data may be unreliable is the fact it doesn't list things like the tags the post had. Therefore, you can't really begin to understand \"why\" the person liked this post just from the information given."
   ]
  },
  {
   "cell_type": "code",
   "execution_count": 5,
   "id": "182f7ba4",
   "metadata": {},
   "outputs": [],
   "source": [
    "df_likedposts = pd.DataFrame(dat)"
   ]
  },
  {
   "cell_type": "code",
   "execution_count": null,
   "id": "6f487048",
   "metadata": {},
   "outputs": [],
   "source": [
    "df_likedposts"
   ]
  },
  {
   "cell_type": "code",
   "execution_count": 15,
   "id": "1259e769",
   "metadata": {},
   "outputs": [],
   "source": [
    "df_likedposts = pd.DataFrame(dat['likes_media_likes'])"
   ]
  },
  {
   "cell_type": "code",
   "execution_count": null,
   "id": "60949a5a",
   "metadata": {},
   "outputs": [],
   "source": [
    "df_likedposts"
   ]
  },
  {
   "cell_type": "code",
   "execution_count": 10,
   "id": "6f0caa0d",
   "metadata": {},
   "outputs": [],
   "source": [
    "string_list_data = [x['string_list_data'][0] for x in dat['likes_media_likes']]"
   ]
  },
  {
   "cell_type": "code",
   "execution_count": null,
   "id": "4feca974",
   "metadata": {},
   "outputs": [],
   "source": [
    "string_list_data"
   ]
  },
  {
   "cell_type": "code",
   "execution_count": 17,
   "id": "8f1e3389",
   "metadata": {},
   "outputs": [],
   "source": [
    "df_likes = pd.DataFrame(string_list_data)"
   ]
  },
  {
   "cell_type": "code",
   "execution_count": null,
   "id": "262b7ec4",
   "metadata": {},
   "outputs": [],
   "source": [
    "df_likes"
   ]
  },
  {
   "cell_type": "code",
   "execution_count": 19,
   "id": "537bd3bb",
   "metadata": {},
   "outputs": [
    {
     "data": {
      "text/plain": [
       "Index(['title', 'media_list_data', 'string_list_data'], dtype='object')"
      ]
     },
     "execution_count": 19,
     "metadata": {},
     "output_type": "execute_result"
    }
   ],
   "source": [
    "df_likedposts.keys()"
   ]
  },
  {
   "cell_type": "code",
   "execution_count": 25,
   "id": "de73e8b7",
   "metadata": {},
   "outputs": [],
   "source": [
    "timestamp = df_likes.groupby('timestamp').count().sort_values('timestamp',ascending = False)"
   ]
  },
  {
   "cell_type": "code",
   "execution_count": 26,
   "id": "7c9f384a",
   "metadata": {},
   "outputs": [
    {
     "data": {
      "text/html": [
       "<div>\n",
       "<style scoped>\n",
       "    .dataframe tbody tr th:only-of-type {\n",
       "        vertical-align: middle;\n",
       "    }\n",
       "\n",
       "    .dataframe tbody tr th {\n",
       "        vertical-align: top;\n",
       "    }\n",
       "\n",
       "    .dataframe thead th {\n",
       "        text-align: right;\n",
       "    }\n",
       "</style>\n",
       "<table border=\"1\" class=\"dataframe\">\n",
       "  <thead>\n",
       "    <tr style=\"text-align: right;\">\n",
       "      <th></th>\n",
       "      <th>href</th>\n",
       "      <th>value</th>\n",
       "    </tr>\n",
       "    <tr>\n",
       "      <th>timestamp</th>\n",
       "      <th></th>\n",
       "      <th></th>\n",
       "    </tr>\n",
       "  </thead>\n",
       "  <tbody>\n",
       "    <tr>\n",
       "      <th>1631039821</th>\n",
       "      <td>1</td>\n",
       "      <td>1</td>\n",
       "    </tr>\n",
       "    <tr>\n",
       "      <th>1631038541</th>\n",
       "      <td>1</td>\n",
       "      <td>1</td>\n",
       "    </tr>\n",
       "    <tr>\n",
       "      <th>1631038481</th>\n",
       "      <td>1</td>\n",
       "      <td>1</td>\n",
       "    </tr>\n",
       "    <tr>\n",
       "      <th>1631036701</th>\n",
       "      <td>1</td>\n",
       "      <td>1</td>\n",
       "    </tr>\n",
       "    <tr>\n",
       "      <th>1631034608</th>\n",
       "      <td>1</td>\n",
       "      <td>1</td>\n",
       "    </tr>\n",
       "  </tbody>\n",
       "</table>\n",
       "</div>"
      ],
      "text/plain": [
       "            href  value\n",
       "timestamp              \n",
       "1631039821     1      1\n",
       "1631038541     1      1\n",
       "1631038481     1      1\n",
       "1631036701     1      1\n",
       "1631034608     1      1"
      ]
     },
     "execution_count": 26,
     "metadata": {},
     "output_type": "execute_result"
    }
   ],
   "source": [
    "timestamp.head(5)"
   ]
  },
  {
   "cell_type": "code",
   "execution_count": 27,
   "id": "11906125",
   "metadata": {},
   "outputs": [],
   "source": [
    "liked_counts = df_likedposts.groupby('title').count().sort_values('media_list_data',ascending = False)"
   ]
  },
  {
   "cell_type": "code",
   "execution_count": 30,
   "id": "9e4e8827",
   "metadata": {},
   "outputs": [],
   "source": [
    "likedbar =liked_counts.head(5)"
   ]
  },
  {
   "cell_type": "code",
   "execution_count": null,
   "id": "47f990a8",
   "metadata": {},
   "outputs": [],
   "source": [
    "likedbar"
   ]
  },
  {
   "cell_type": "code",
   "execution_count": 34,
   "id": "9c684c5d",
   "metadata": {
    "scrolled": true
   },
   "outputs": [
    {
     "data": {
      "text/plain": [
       "<AxesSubplot:xlabel='Account Name', ylabel='Number of Liked Posts'>"
      ]
     },
     "execution_count": 34,
     "metadata": {},
     "output_type": "execute_result"
    },
    {
     "data": {
      "image/png": "[encoded data removed]",
      "text/plain": [
       "<Figure size 720x288 with 1 Axes>"
      ]
     },
     "metadata": {
      "needs_background": "light"
     },
     "output_type": "display_data"
    }
   ],
   "source": [
    "likedbar.plot.bar(y='media_list_data', ylabel = 'Number of Liked Posts', figsize =(10, 4), xlabel = 'Account Name')"
   ]
  },
  {
   "cell_type": "raw",
   "id": "9b69c40a",
   "metadata": {},
   "source": [
    "Theoretical Hypothesis: The user \"post_ryno\" most liked account will be \"wannatradepants\"\n",
    "\n",
    "Statistical Hypothesis: The user \"post_ryno\"'s most liked account will have at least 50% more likes than the 2nd place account.\n",
    "\n",
    "The data file that could be used for these hypotheses would be the one used in this assignment, the \"liked_posts\" file.\n",
    "\n",
    "Instead of the data file, the only way I can think of to get the same amount of data is to go through the user's account on Instagram and look through and take note of every post the user has liked which would be sufficiently more time consuming."
   ]
  },
  {
   "cell_type": "markdown",
   "id": "59b5d53f",
   "metadata": {},
   "source": [
    "# Ryan West\n",
    "# September 21st, 2021\n",
    "# \"likes\" Report\n",
    "\n",
    "Cells 1 through 5 are where the tasks number 1 and number 2 from the assignment are done. The answers for task number 3 can be found after cell number 4 in a markdown cell. Cell number 34 is a bar graph visualization of task number 4. I cut it off to 5 accounts to make it easier to read and so it doesn't take up the whole page. The responses to task number 5 can be found in the markdown cell above this one.\n",
    "\n",
    "The source of the data used in this assignment was the \"liked_posts\" file from my Instagram account's downloaded data. The data is listed in order of when I liked the posts, with the top being most recent and bottom being the oldest. The data also includes the account name, a timestamp, and a url of the post.\n",
    "\n",
    "The wrangling and analysis goes hand in hand. The data was opened in the jupyter notebook and then converted into a more readable form. The easier to read data was analyzed and data about what the most liked accounts are was gathered.\n",
    "\n",
    "As expected, the account I thought would have the most likes (wannatradepants) was correct.\n",
    "\n",
    "As for limitations, for now I feel the lack of experience is the most pressing. Because of this I can't correctly think of alternative approaches that wouldn't be time consuming. The next steps is just simply continuing to learn and get more experience. "
   ]
  }
 ],
 "metadata": {
  "kernelspec": {
   "display_name": "Python 3 (ipykernel)",
   "language": "python",
   "name": "python3"
  },
  "language_info": {
   "codemirror_mode": {
    "name": "ipython",
    "version": 3
   },
   "file_extension": ".py",
   "mimetype": "text/x-python",
   "name": "python",
   "nbconvert_exporter": "python",
   "pygments_lexer": "ipython3",
   "version": "3.9.6"
  }
 },
 "nbformat": 4,
 "nbformat_minor": 5
}
